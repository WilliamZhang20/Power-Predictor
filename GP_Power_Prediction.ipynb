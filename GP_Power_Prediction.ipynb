{
  "nbformat": 4,
  "nbformat_minor": 0,
  "metadata": {
    "colab": {
      "provenance": [],
      "authorship_tag": "ABX9TyO5dhJcTeTZN+V1bWZnXeO9"
    },
    "kernelspec": {
      "name": "python3",
      "display_name": "Python 3"
    },
    "language_info": {
      "name": "python"
    }
  },
  "cells": [
    {
      "cell_type": "markdown",
      "source": [
        "Dataset file is imported from Drive, for now.\n"
      ],
      "metadata": {
        "id": "OnqoVgJOzs7t"
      }
    },
    {
      "cell_type": "code",
      "source": [
        "from google.colab import drive\n",
        "drive.mount('/content/drive')"
      ],
      "metadata": {
        "colab": {
          "base_uri": "https://localhost:8080/"
        },
        "id": "H4iESB4izwxT",
        "outputId": "ee5d2a3b-397f-4eac-c38c-061b4191e89a"
      },
      "execution_count": 1,
      "outputs": [
        {
          "output_type": "stream",
          "name": "stdout",
          "text": [
            "Mounted at /content/drive\n"
          ]
        }
      ]
    },
    {
      "cell_type": "markdown",
      "source": [
        "The dataset used in this notebook is the [Energy Efficiency Dataset](https://www.kaggle.com/datasets/elikplim/eergy-efficiency-dataset) from Kaggle.\n",
        "\n",
        "It was compiled by researchers at the University of Oxford, Angeliki Xifara and  Athanasios Tsanas.\n",
        "\n",
        "It contains simulated building data for 12 buildings, resulting in 768 samples over 8 *input* features. The *output* features of interest are the amount of **energy** required to heat or cool the building."
      ],
      "metadata": {
        "id": "7APwiJYNbjyx"
      }
    },
    {
      "cell_type": "markdown",
      "source": [
        "### List of input features\n",
        "\n",
        "X1 Relative Compactness\n",
        "\n",
        "X2 Surface Area\n",
        "\n",
        "X3 Wall Area\n",
        "\n",
        "X4 Roof Area\n",
        "\n",
        "X5 Overall Height\n",
        "\n",
        "X6 Orientation\n",
        "\n",
        "X7 Glazing Area\n",
        "\n",
        "X8 Glazing Area Distribution\n",
        "\n",
        "### List of output featurees\n",
        "\n",
        "y1 Heating Load\n",
        "\n",
        "y2 Cooling Load"
      ],
      "metadata": {
        "id": "TcKqruvccs4e"
      }
    },
    {
      "cell_type": "code",
      "source": [
        "import pandas as pd\n",
        "\n",
        "file_path = 'kaggle_energy_Dataset.csv'\n",
        "\n",
        "df = pd.read_csv(file_path)\n",
        "df.head()"
      ],
      "metadata": {
        "colab": {
          "base_uri": "https://localhost:8080/",
          "height": 206
        },
        "id": "ct9-4mK90Eik",
        "outputId": "4c6a485e-db1f-4568-eb63-280287f66be0"
      },
      "execution_count": 2,
      "outputs": [
        {
          "output_type": "execute_result",
          "data": {
            "text/plain": [
              "     X1     X2     X3      X4   X5  X6   X7  X8     Y1     Y2\n",
              "0  0.98  514.5  294.0  110.25  7.0   2  0.0   0  15.55  21.33\n",
              "1  0.98  514.5  294.0  110.25  7.0   3  0.0   0  15.55  21.33\n",
              "2  0.98  514.5  294.0  110.25  7.0   4  0.0   0  15.55  21.33\n",
              "3  0.98  514.5  294.0  110.25  7.0   5  0.0   0  15.55  21.33\n",
              "4  0.90  563.5  318.5  122.50  7.0   2  0.0   0  20.84  28.28"
            ],
            "text/html": [
              "\n",
              "  <div id=\"df-1dfa25fa-d7cc-4dc3-9654-aeddb102ea2d\" class=\"colab-df-container\">\n",
              "    <div>\n",
              "<style scoped>\n",
              "    .dataframe tbody tr th:only-of-type {\n",
              "        vertical-align: middle;\n",
              "    }\n",
              "\n",
              "    .dataframe tbody tr th {\n",
              "        vertical-align: top;\n",
              "    }\n",
              "\n",
              "    .dataframe thead th {\n",
              "        text-align: right;\n",
              "    }\n",
              "</style>\n",
              "<table border=\"1\" class=\"dataframe\">\n",
              "  <thead>\n",
              "    <tr style=\"text-align: right;\">\n",
              "      <th></th>\n",
              "      <th>X1</th>\n",
              "      <th>X2</th>\n",
              "      <th>X3</th>\n",
              "      <th>X4</th>\n",
              "      <th>X5</th>\n",
              "      <th>X6</th>\n",
              "      <th>X7</th>\n",
              "      <th>X8</th>\n",
              "      <th>Y1</th>\n",
              "      <th>Y2</th>\n",
              "    </tr>\n",
              "  </thead>\n",
              "  <tbody>\n",
              "    <tr>\n",
              "      <th>0</th>\n",
              "      <td>0.98</td>\n",
              "      <td>514.5</td>\n",
              "      <td>294.0</td>\n",
              "      <td>110.25</td>\n",
              "      <td>7.0</td>\n",
              "      <td>2</td>\n",
              "      <td>0.0</td>\n",
              "      <td>0</td>\n",
              "      <td>15.55</td>\n",
              "      <td>21.33</td>\n",
              "    </tr>\n",
              "    <tr>\n",
              "      <th>1</th>\n",
              "      <td>0.98</td>\n",
              "      <td>514.5</td>\n",
              "      <td>294.0</td>\n",
              "      <td>110.25</td>\n",
              "      <td>7.0</td>\n",
              "      <td>3</td>\n",
              "      <td>0.0</td>\n",
              "      <td>0</td>\n",
              "      <td>15.55</td>\n",
              "      <td>21.33</td>\n",
              "    </tr>\n",
              "    <tr>\n",
              "      <th>2</th>\n",
              "      <td>0.98</td>\n",
              "      <td>514.5</td>\n",
              "      <td>294.0</td>\n",
              "      <td>110.25</td>\n",
              "      <td>7.0</td>\n",
              "      <td>4</td>\n",
              "      <td>0.0</td>\n",
              "      <td>0</td>\n",
              "      <td>15.55</td>\n",
              "      <td>21.33</td>\n",
              "    </tr>\n",
              "    <tr>\n",
              "      <th>3</th>\n",
              "      <td>0.98</td>\n",
              "      <td>514.5</td>\n",
              "      <td>294.0</td>\n",
              "      <td>110.25</td>\n",
              "      <td>7.0</td>\n",
              "      <td>5</td>\n",
              "      <td>0.0</td>\n",
              "      <td>0</td>\n",
              "      <td>15.55</td>\n",
              "      <td>21.33</td>\n",
              "    </tr>\n",
              "    <tr>\n",
              "      <th>4</th>\n",
              "      <td>0.90</td>\n",
              "      <td>563.5</td>\n",
              "      <td>318.5</td>\n",
              "      <td>122.50</td>\n",
              "      <td>7.0</td>\n",
              "      <td>2</td>\n",
              "      <td>0.0</td>\n",
              "      <td>0</td>\n",
              "      <td>20.84</td>\n",
              "      <td>28.28</td>\n",
              "    </tr>\n",
              "  </tbody>\n",
              "</table>\n",
              "</div>\n",
              "    <div class=\"colab-df-buttons\">\n",
              "\n",
              "  <div class=\"colab-df-container\">\n",
              "    <button class=\"colab-df-convert\" onclick=\"convertToInteractive('df-1dfa25fa-d7cc-4dc3-9654-aeddb102ea2d')\"\n",
              "            title=\"Convert this dataframe to an interactive table.\"\n",
              "            style=\"display:none;\">\n",
              "\n",
              "  <svg xmlns=\"http://www.w3.org/2000/svg\" height=\"24px\" viewBox=\"0 -960 960 960\">\n",
              "    <path d=\"M120-120v-720h720v720H120Zm60-500h600v-160H180v160Zm220 220h160v-160H400v160Zm0 220h160v-160H400v160ZM180-400h160v-160H180v160Zm440 0h160v-160H620v160ZM180-180h160v-160H180v160Zm440 0h160v-160H620v160Z\"/>\n",
              "  </svg>\n",
              "    </button>\n",
              "\n",
              "  <style>\n",
              "    .colab-df-container {\n",
              "      display:flex;\n",
              "      gap: 12px;\n",
              "    }\n",
              "\n",
              "    .colab-df-convert {\n",
              "      background-color: #E8F0FE;\n",
              "      border: none;\n",
              "      border-radius: 50%;\n",
              "      cursor: pointer;\n",
              "      display: none;\n",
              "      fill: #1967D2;\n",
              "      height: 32px;\n",
              "      padding: 0 0 0 0;\n",
              "      width: 32px;\n",
              "    }\n",
              "\n",
              "    .colab-df-convert:hover {\n",
              "      background-color: #E2EBFA;\n",
              "      box-shadow: 0px 1px 2px rgba(60, 64, 67, 0.3), 0px 1px 3px 1px rgba(60, 64, 67, 0.15);\n",
              "      fill: #174EA6;\n",
              "    }\n",
              "\n",
              "    .colab-df-buttons div {\n",
              "      margin-bottom: 4px;\n",
              "    }\n",
              "\n",
              "    [theme=dark] .colab-df-convert {\n",
              "      background-color: #3B4455;\n",
              "      fill: #D2E3FC;\n",
              "    }\n",
              "\n",
              "    [theme=dark] .colab-df-convert:hover {\n",
              "      background-color: #434B5C;\n",
              "      box-shadow: 0px 1px 3px 1px rgba(0, 0, 0, 0.15);\n",
              "      filter: drop-shadow(0px 1px 2px rgba(0, 0, 0, 0.3));\n",
              "      fill: #FFFFFF;\n",
              "    }\n",
              "  </style>\n",
              "\n",
              "    <script>\n",
              "      const buttonEl =\n",
              "        document.querySelector('#df-1dfa25fa-d7cc-4dc3-9654-aeddb102ea2d button.colab-df-convert');\n",
              "      buttonEl.style.display =\n",
              "        google.colab.kernel.accessAllowed ? 'block' : 'none';\n",
              "\n",
              "      async function convertToInteractive(key) {\n",
              "        const element = document.querySelector('#df-1dfa25fa-d7cc-4dc3-9654-aeddb102ea2d');\n",
              "        const dataTable =\n",
              "          await google.colab.kernel.invokeFunction('convertToInteractive',\n",
              "                                                    [key], {});\n",
              "        if (!dataTable) return;\n",
              "\n",
              "        const docLinkHtml = 'Like what you see? Visit the ' +\n",
              "          '<a target=\"_blank\" href=https://colab.research.google.com/notebooks/data_table.ipynb>data table notebook</a>'\n",
              "          + ' to learn more about interactive tables.';\n",
              "        element.innerHTML = '';\n",
              "        dataTable['output_type'] = 'display_data';\n",
              "        await google.colab.output.renderOutput(dataTable, element);\n",
              "        const docLink = document.createElement('div');\n",
              "        docLink.innerHTML = docLinkHtml;\n",
              "        element.appendChild(docLink);\n",
              "      }\n",
              "    </script>\n",
              "  </div>\n",
              "\n",
              "\n",
              "<div id=\"df-19a3c0b0-b625-4a8c-87d0-ab224908de82\">\n",
              "  <button class=\"colab-df-quickchart\" onclick=\"quickchart('df-19a3c0b0-b625-4a8c-87d0-ab224908de82')\"\n",
              "            title=\"Suggest charts\"\n",
              "            style=\"display:none;\">\n",
              "\n",
              "<svg xmlns=\"http://www.w3.org/2000/svg\" height=\"24px\"viewBox=\"0 0 24 24\"\n",
              "     width=\"24px\">\n",
              "    <g>\n",
              "        <path d=\"M19 3H5c-1.1 0-2 .9-2 2v14c0 1.1.9 2 2 2h14c1.1 0 2-.9 2-2V5c0-1.1-.9-2-2-2zM9 17H7v-7h2v7zm4 0h-2V7h2v10zm4 0h-2v-4h2v4z\"/>\n",
              "    </g>\n",
              "</svg>\n",
              "  </button>\n",
              "\n",
              "<style>\n",
              "  .colab-df-quickchart {\n",
              "      --bg-color: #E8F0FE;\n",
              "      --fill-color: #1967D2;\n",
              "      --hover-bg-color: #E2EBFA;\n",
              "      --hover-fill-color: #174EA6;\n",
              "      --disabled-fill-color: #AAA;\n",
              "      --disabled-bg-color: #DDD;\n",
              "  }\n",
              "\n",
              "  [theme=dark] .colab-df-quickchart {\n",
              "      --bg-color: #3B4455;\n",
              "      --fill-color: #D2E3FC;\n",
              "      --hover-bg-color: #434B5C;\n",
              "      --hover-fill-color: #FFFFFF;\n",
              "      --disabled-bg-color: #3B4455;\n",
              "      --disabled-fill-color: #666;\n",
              "  }\n",
              "\n",
              "  .colab-df-quickchart {\n",
              "    background-color: var(--bg-color);\n",
              "    border: none;\n",
              "    border-radius: 50%;\n",
              "    cursor: pointer;\n",
              "    display: none;\n",
              "    fill: var(--fill-color);\n",
              "    height: 32px;\n",
              "    padding: 0;\n",
              "    width: 32px;\n",
              "  }\n",
              "\n",
              "  .colab-df-quickchart:hover {\n",
              "    background-color: var(--hover-bg-color);\n",
              "    box-shadow: 0 1px 2px rgba(60, 64, 67, 0.3), 0 1px 3px 1px rgba(60, 64, 67, 0.15);\n",
              "    fill: var(--button-hover-fill-color);\n",
              "  }\n",
              "\n",
              "  .colab-df-quickchart-complete:disabled,\n",
              "  .colab-df-quickchart-complete:disabled:hover {\n",
              "    background-color: var(--disabled-bg-color);\n",
              "    fill: var(--disabled-fill-color);\n",
              "    box-shadow: none;\n",
              "  }\n",
              "\n",
              "  .colab-df-spinner {\n",
              "    border: 2px solid var(--fill-color);\n",
              "    border-color: transparent;\n",
              "    border-bottom-color: var(--fill-color);\n",
              "    animation:\n",
              "      spin 1s steps(1) infinite;\n",
              "  }\n",
              "\n",
              "  @keyframes spin {\n",
              "    0% {\n",
              "      border-color: transparent;\n",
              "      border-bottom-color: var(--fill-color);\n",
              "      border-left-color: var(--fill-color);\n",
              "    }\n",
              "    20% {\n",
              "      border-color: transparent;\n",
              "      border-left-color: var(--fill-color);\n",
              "      border-top-color: var(--fill-color);\n",
              "    }\n",
              "    30% {\n",
              "      border-color: transparent;\n",
              "      border-left-color: var(--fill-color);\n",
              "      border-top-color: var(--fill-color);\n",
              "      border-right-color: var(--fill-color);\n",
              "    }\n",
              "    40% {\n",
              "      border-color: transparent;\n",
              "      border-right-color: var(--fill-color);\n",
              "      border-top-color: var(--fill-color);\n",
              "    }\n",
              "    60% {\n",
              "      border-color: transparent;\n",
              "      border-right-color: var(--fill-color);\n",
              "    }\n",
              "    80% {\n",
              "      border-color: transparent;\n",
              "      border-right-color: var(--fill-color);\n",
              "      border-bottom-color: var(--fill-color);\n",
              "    }\n",
              "    90% {\n",
              "      border-color: transparent;\n",
              "      border-bottom-color: var(--fill-color);\n",
              "    }\n",
              "  }\n",
              "</style>\n",
              "\n",
              "  <script>\n",
              "    async function quickchart(key) {\n",
              "      const quickchartButtonEl =\n",
              "        document.querySelector('#' + key + ' button');\n",
              "      quickchartButtonEl.disabled = true;  // To prevent multiple clicks.\n",
              "      quickchartButtonEl.classList.add('colab-df-spinner');\n",
              "      try {\n",
              "        const charts = await google.colab.kernel.invokeFunction(\n",
              "            'suggestCharts', [key], {});\n",
              "      } catch (error) {\n",
              "        console.error('Error during call to suggestCharts:', error);\n",
              "      }\n",
              "      quickchartButtonEl.classList.remove('colab-df-spinner');\n",
              "      quickchartButtonEl.classList.add('colab-df-quickchart-complete');\n",
              "    }\n",
              "    (() => {\n",
              "      let quickchartButtonEl =\n",
              "        document.querySelector('#df-19a3c0b0-b625-4a8c-87d0-ab224908de82 button');\n",
              "      quickchartButtonEl.style.display =\n",
              "        google.colab.kernel.accessAllowed ? 'block' : 'none';\n",
              "    })();\n",
              "  </script>\n",
              "</div>\n",
              "\n",
              "    </div>\n",
              "  </div>\n"
            ],
            "application/vnd.google.colaboratory.intrinsic+json": {
              "type": "dataframe",
              "variable_name": "df",
              "summary": "{\n  \"name\": \"df\",\n  \"rows\": 768,\n  \"fields\": [\n    {\n      \"column\": \"X1\",\n      \"properties\": {\n        \"dtype\": \"number\",\n        \"std\": 0.10577747587475206,\n        \"min\": 0.62,\n        \"max\": 0.98,\n        \"num_unique_values\": 12,\n        \"samples\": [\n          0.64,\n          0.66,\n          0.98\n        ],\n        \"semantic_type\": \"\",\n        \"description\": \"\"\n      }\n    },\n    {\n      \"column\": \"X2\",\n      \"properties\": {\n        \"dtype\": \"number\",\n        \"std\": 88.08611605586826,\n        \"min\": 514.5,\n        \"max\": 808.5,\n        \"num_unique_values\": 12,\n        \"samples\": [\n          784.0,\n          759.5,\n          514.5\n        ],\n        \"semantic_type\": \"\",\n        \"description\": \"\"\n      }\n    },\n    {\n      \"column\": \"X3\",\n      \"properties\": {\n        \"dtype\": \"number\",\n        \"std\": 43.6264814379949,\n        \"min\": 245.0,\n        \"max\": 416.5,\n        \"num_unique_values\": 7,\n        \"samples\": [\n          294.0,\n          318.5,\n          269.5\n        ],\n        \"semantic_type\": \"\",\n        \"description\": \"\"\n      }\n    },\n    {\n      \"column\": \"X4\",\n      \"properties\": {\n        \"dtype\": \"number\",\n        \"std\": 45.165950222920344,\n        \"min\": 110.25,\n        \"max\": 220.5,\n        \"num_unique_values\": 4,\n        \"samples\": [\n          122.5,\n          220.5,\n          110.25\n        ],\n        \"semantic_type\": \"\",\n        \"description\": \"\"\n      }\n    },\n    {\n      \"column\": \"X5\",\n      \"properties\": {\n        \"dtype\": \"number\",\n        \"std\": 1.7511404367453496,\n        \"min\": 3.5,\n        \"max\": 7.0,\n        \"num_unique_values\": 2,\n        \"samples\": [\n          3.5,\n          7.0\n        ],\n        \"semantic_type\": \"\",\n        \"description\": \"\"\n      }\n    },\n    {\n      \"column\": \"X6\",\n      \"properties\": {\n        \"dtype\": \"number\",\n        \"std\": 1,\n        \"min\": 2,\n        \"max\": 5,\n        \"num_unique_values\": 4,\n        \"samples\": [\n          3,\n          5\n        ],\n        \"semantic_type\": \"\",\n        \"description\": \"\"\n      }\n    },\n    {\n      \"column\": \"X7\",\n      \"properties\": {\n        \"dtype\": \"number\",\n        \"std\": 0.13322056291470877,\n        \"min\": 0.0,\n        \"max\": 0.4,\n        \"num_unique_values\": 4,\n        \"samples\": [\n          0.1,\n          0.4\n        ],\n        \"semantic_type\": \"\",\n        \"description\": \"\"\n      }\n    },\n    {\n      \"column\": \"X8\",\n      \"properties\": {\n        \"dtype\": \"number\",\n        \"std\": 1,\n        \"min\": 0,\n        \"max\": 5,\n        \"num_unique_values\": 6,\n        \"samples\": [\n          0,\n          1\n        ],\n        \"semantic_type\": \"\",\n        \"description\": \"\"\n      }\n    },\n    {\n      \"column\": \"Y1\",\n      \"properties\": {\n        \"dtype\": \"number\",\n        \"std\": 10.090195732006162,\n        \"min\": 6.01,\n        \"max\": 43.1,\n        \"num_unique_values\": 586,\n        \"samples\": [\n          16.47,\n          24.94\n        ],\n        \"semantic_type\": \"\",\n        \"description\": \"\"\n      }\n    },\n    {\n      \"column\": \"Y2\",\n      \"properties\": {\n        \"dtype\": \"number\",\n        \"std\": 9.513305562326163,\n        \"min\": 10.9,\n        \"max\": 48.03,\n        \"num_unique_values\": 636,\n        \"samples\": [\n          21.09,\n          20.82\n        ],\n        \"semantic_type\": \"\",\n        \"description\": \"\"\n      }\n    }\n  ]\n}"
            }
          },
          "metadata": {},
          "execution_count": 2
        }
      ]
    },
    {
      "cell_type": "code",
      "source": [
        "from sklearn.model_selection import train_test_split\n",
        "train_df, test_df = train_test_split(df, test_size=0.2, random_state=42)"
      ],
      "metadata": {
        "id": "zDn850j92PdV"
      },
      "execution_count": 3,
      "outputs": []
    },
    {
      "cell_type": "code",
      "source": [
        "X_train = train_df.drop(['Y1', 'Y2'], axis=1)\n",
        "print(X_train[0:9])"
      ],
      "metadata": {
        "colab": {
          "base_uri": "https://localhost:8080/"
        },
        "id": "EMAXIWEC0mm8",
        "outputId": "7d4ae862-698e-4496-ebc9-2630244c8cdf"
      },
      "execution_count": 4,
      "outputs": [
        {
          "output_type": "stream",
          "name": "stdout",
          "text": [
            "       X1     X2     X3     X4   X5  X6    X7  X8\n",
            "60   0.82  612.5  318.5  147.0  7.0   2  0.10   1\n",
            "618  0.64  784.0  343.0  220.5  3.5   4  0.40   2\n",
            "346  0.86  588.0  294.0  147.0  7.0   4  0.25   2\n",
            "294  0.90  563.5  318.5  122.5  7.0   4  0.25   1\n",
            "231  0.66  759.5  318.5  220.5  3.5   5  0.10   4\n",
            "340  0.90  563.5  318.5  122.5  7.0   2  0.25   2\n",
            "535  0.90  563.5  318.5  122.5  7.0   5  0.40   1\n",
            "306  0.79  637.0  343.0  147.0  7.0   4  0.25   1\n",
            "718  0.62  808.5  367.5  220.5  3.5   4  0.40   4\n"
          ]
        }
      ]
    },
    {
      "cell_type": "code",
      "source": [
        "Y_train = train_df[['Y1', 'Y2']]\n",
        "print(Y_train[0:2])"
      ],
      "metadata": {
        "colab": {
          "base_uri": "https://localhost:8080/"
        },
        "id": "zsuRY1A9171e",
        "outputId": "fddada47-f577-4442-d05e-5daf51ace770"
      },
      "execution_count": 5,
      "outputs": [
        {
          "output_type": "stream",
          "name": "stdout",
          "text": [
            "        Y1     Y2\n",
            "60   23.53  27.31\n",
            "618  18.90  22.09\n"
          ]
        }
      ]
    },
    {
      "cell_type": "code",
      "source": [
        "print(X_train['X1'])\n",
        "print(len(Y_train))"
      ],
      "metadata": {
        "colab": {
          "base_uri": "https://localhost:8080/"
        },
        "id": "KiQWHo3M39sH",
        "outputId": "083e7db7-47db-4774-d8d8-dbdccd9a061f"
      },
      "execution_count": 6,
      "outputs": [
        {
          "output_type": "stream",
          "name": "stdout",
          "text": [
            "60     0.82\n",
            "618    0.64\n",
            "346    0.86\n",
            "294    0.90\n",
            "231    0.66\n",
            "       ... \n",
            "71     0.76\n",
            "106    0.86\n",
            "270    0.71\n",
            "435    0.98\n",
            "102    0.90\n",
            "Name: X1, Length: 614, dtype: float64\n",
            "614\n"
          ]
        }
      ]
    },
    {
      "cell_type": "code",
      "source": [
        "\"\"\"\n",
        "Setting up test sets\n",
        "\"\"\"\n",
        "X_test = test_df.drop(['Y1', 'Y2'], axis=1)\n",
        "Y_test = test_df[['Y1', 'Y2']]"
      ],
      "metadata": {
        "id": "jGmMVJMI5-Zg"
      },
      "execution_count": 7,
      "outputs": []
    },
    {
      "cell_type": "code",
      "source": [
        "from sklearn.preprocessing import StandardScaler\n",
        "\n",
        "# Scaling the data\n",
        "scaler = StandardScaler()\n",
        "X_train = scaler.fit_transform(X_train)\n",
        "X_test = scaler.transform(X_test)"
      ],
      "metadata": {
        "id": "CBN7hw7U69dO"
      },
      "execution_count": 8,
      "outputs": []
    },
    {
      "cell_type": "markdown",
      "source": [
        "We will use scikit-learn to perform Gaussian Process (GP) regression on the data.\n",
        "\n",
        "Then compute train & test accuracy.\n",
        "\n",
        "Finally, we will benchmark this against a vanilla neural network made with PyTorch."
      ],
      "metadata": {
        "id": "OIJ-sTsE2p6O"
      }
    },
    {
      "cell_type": "code",
      "source": [
        "from sklearn.gaussian_process import GaussianProcessRegressor\n",
        "from sklearn.gaussian_process.kernels import RBF, WhiteKernel\n",
        "# Length Scale ~ Learning Rate\n",
        "kernel = 1.0 * RBF(length_scale=1e-1) + WhiteKernel(noise_level=1.0)\n",
        "gpr = GaussianProcessRegressor(\n",
        "    kernel=kernel,\n",
        "    random_state=0,\n",
        "    optimizer='fmin_l_bfgs_b',\n",
        "    n_restarts_optimizer=10,  # More restarts to avoid poor local minima\n",
        ")\n",
        "gpr.fit(X_train, Y_train)\n",
        "gpr.score(X_train, Y_train)"
      ],
      "metadata": {
        "colab": {
          "base_uri": "https://localhost:8080/"
        },
        "id": "DcMKgpMy2Iql",
        "outputId": "07d2d7be-6fc8-4e51-c025-e6df237552b5"
      },
      "execution_count": 9,
      "outputs": [
        {
          "output_type": "execute_result",
          "data": {
            "text/plain": [
              "0.9966286220771734"
            ]
          },
          "metadata": {},
          "execution_count": 9
        }
      ]
    },
    {
      "cell_type": "markdown",
      "source": [
        "That above text showed that the GP regressor achieved an $R^2$ score of 0.9966 over the training set.\n",
        "\n",
        "For the record, training took 1 minute on a CPU.\n",
        "\n",
        "Below, you can see that the test set's $R^2$ score is also very high, at 0.989."
      ],
      "metadata": {
        "id": "qUz7Zx0RZgZn"
      }
    },
    {
      "cell_type": "code",
      "source": [
        "gpr.score(X_test, Y_test)"
      ],
      "metadata": {
        "colab": {
          "base_uri": "https://localhost:8080/"
        },
        "id": "4YS_LlU26P5d",
        "outputId": "dea3385f-da84-4020-f502-d73156a45e31"
      },
      "execution_count": 10,
      "outputs": [
        {
          "output_type": "execute_result",
          "data": {
            "text/plain": [
              "0.9893510317226546"
            ]
          },
          "metadata": {},
          "execution_count": 10
        }
      ]
    },
    {
      "cell_type": "markdown",
      "source": [
        "Seems the model fit the training data really well!\n",
        "\n",
        "Let's compare it on a plot."
      ],
      "metadata": {
        "id": "4XXrTY2G3rz3"
      }
    },
    {
      "cell_type": "code",
      "source": [
        "print(X_test[0:9])"
      ],
      "metadata": {
        "colab": {
          "base_uri": "https://localhost:8080/"
        },
        "id": "iyo6UtKL9IGk",
        "outputId": "7ed5aa26-d47c-46c9-d24b-6208d86bfc7b"
      },
      "execution_count": 11,
      "outputs": [
        {
          "output_type": "stream",
          "name": "stdout",
          "text": [
            "[[-1.34498313  1.52879024  1.12425064  0.95706259 -0.98384385 -1.36441084\n",
            "   1.22779036  0.12918878]\n",
            " [-0.96525229  0.97253708 -0.00737214  0.95706259 -0.98384385 -1.36441084\n",
            "   0.10874541 -1.1605984 ]\n",
            " [ 2.07259443 -1.80872872 -0.57318352 -1.49710347  1.01642146 -1.36441084\n",
            "   1.22779036  0.12918878]\n",
            " [ 0.26887294 -0.41809582  0.55843925 -0.67904812  1.01642146  0.44108109\n",
            "   1.22779036  0.77408237]\n",
            " [-1.15511771  1.25066366  0.55843925  0.95706259 -0.98384385 -0.46166488\n",
            "   0.10874541  0.77408237]\n",
            " [ 0.55367107 -0.6962224  -0.00737214 -0.67904812  1.01642146 -1.36441084\n",
            "  -1.01029954  0.77408237]\n",
            " [ 2.07259443 -1.80872872 -0.57318352 -1.49710347  1.01642146 -0.46166488\n",
            "  -1.01029954 -0.51570481]\n",
            " [ 2.07259443 -1.80872872 -0.57318352 -1.49710347  1.01642146 -1.36441084\n",
            "   0.10874541 -0.51570481]\n",
            " [-1.15511771  1.25066366  0.55843925  0.95706259 -0.98384385 -1.36441084\n",
            "   1.22779036 -1.1605984 ]]\n"
          ]
        }
      ]
    },
    {
      "cell_type": "markdown",
      "source": [
        "Plotting train results"
      ],
      "metadata": {
        "id": "46UfXALE-gSK"
      }
    },
    {
      "cell_type": "code",
      "source": [
        "import matplotlib.pyplot as plt\n",
        "import numpy as np\n",
        "\n",
        "y_idx_map = {\n",
        "    0: 'Y1',\n",
        "    1: 'Y2'\n",
        "}\n",
        "\n",
        "# Plots 1 Standard Deviation CI (68%)\n",
        "def plotGPRegression(X, Y, model, scaler, x_idx, y_idx):\n",
        "    y_pred, sigma = model.predict(X, return_std=True)\n",
        "\n",
        "    # Denormalize the X values for the plot (if needed)\n",
        "    X_denorm = scaler.inverse_transform(X)  # Assuming scaler_x was used for X\n",
        "\n",
        "    # Create the plot\n",
        "    plt.figure(figsize=(10, 6))\n",
        "\n",
        "    # Plot true data points\n",
        "    plt.scatter(X_denorm[:, x_idx], Y[y_idx_map[y_idx]], color='red', label='True data', alpha=0.4, s=10)\n",
        "\n",
        "    plt.vlines(X_denorm[:, x_idx],\n",
        "               y_pred[:, 1] - sigma[:, 1],\n",
        "               y_pred[:, 1] + sigma[:, 1],\n",
        "               color='green', alpha=0.3, lw=2, label=\"Confidence Interval (1 std)\")\n",
        "\n",
        "    # Plot the GP predictions\n",
        "    plt.scatter(X_denorm[:, x_idx], y_pred[:, 1], color='blue', label='GP prediction', alpha=0.4, s=8)\n",
        "\n",
        "    plt.xlabel('X (Denormalized)')\n",
        "    plt.ylabel('Y (Target)')\n",
        "    plt.title('Gaussian Process Regression: Data vs Prediction')\n",
        "    plt.legend()\n",
        "\n",
        "    plt.show()"
      ],
      "metadata": {
        "id": "fJmarGHuhU2n"
      },
      "execution_count": 66,
      "outputs": []
    },
    {
      "cell_type": "markdown",
      "source": [
        "Below we call the function to plot GP predictions vs. data, passing in the training dataset.\n",
        "\n",
        "The red is the true data, blue is prediction, and green lines are the region of our 68% confidence interval, i.e. all regions within 1 standard deviation of the prediction.\n",
        "\n",
        "The last two arguments are the X index (which can range from 0 to 7 for 8 features) and Y index (ranging from 0 to 1 for 2 features). Since this is a 2D plot, we plot 1 X feature vs 1 Y feature.  \n",
        "\n",
        "Feel free to adjust the last two arguments around their ranges. One can easily find cases where there are some points that are not within confidence intervals, pointing out an area for improvement.\n",
        "\n",
        "Another cool way to visualize it is to comment out the line for GP predictions, allowing us to see only confidence intervals. Having only 2 colors can make the graph clearer."
      ],
      "metadata": {
        "id": "pDfvcxPC6nwR"
      }
    },
    {
      "cell_type": "code",
      "source": [
        "plotGPRegression(X_train, Y_train, gpr, scaler, 3, 1)"
      ],
      "metadata": {
        "colab": {
          "base_uri": "https://localhost:8080/",
          "height": 564
        },
        "id": "phso4pfb-hoL",
        "outputId": "cca6efc2-af51-4130-f97c-c15205ad9534"
      },
      "execution_count": 57,
      "outputs": [
        {
          "output_type": "display_data",
          "data": {
            "text/plain": [
              "<Figure size 1000x600 with 1 Axes>"
            ],
            "image/png": "[encoded data removed]"
          },
          "metadata": {}
        }
      ]
    },
    {
      "cell_type": "markdown",
      "source": [
        "Plotting test data"
      ],
      "metadata": {
        "id": "ChIpX7KX-dlc"
      }
    },
    {
      "cell_type": "code",
      "source": [
        "plotGPRegression(X_test, Y_test, gpr, scaler, 2, 1)"
      ],
      "metadata": {
        "colab": {
          "base_uri": "https://localhost:8080/",
          "height": 564
        },
        "id": "aFyzLGlV3pE2",
        "outputId": "c6342670-69b9-4abd-9b21-29bec61c4c8a"
      },
      "execution_count": 58,
      "outputs": [
        {
          "output_type": "display_data",
          "data": {
            "text/plain": [
              "<Figure size 1000x600 with 1 Axes>"
            ],
            "image/png": "[encoded data removed]"
          },
          "metadata": {}
        }
      ]
    },
    {
      "cell_type": "markdown",
      "source": [
        "Let's now build a neural network in PyTorch to do the same thing!\n",
        "\n",
        "Ours will be a very simple neural network, to avoid overfitting.\n",
        "\n",
        "It has an input layer, and a hidden layer. This will require two linear layers.\n",
        "\n",
        "Its activation function will be the Rectified Linear Unit (ReLU), and it will adjust parameters using Stochastic Gradient Descent (SGD).\n",
        "\n",
        "Additionally, the SGD will be optimized using the Nesterov Accelerated Gradient algorithm, which is one of the consistently fastest algorithms."
      ],
      "metadata": {
        "id": "-OEcHt1ZAt98"
      }
    },
    {
      "cell_type": "code",
      "source": [
        "import torch\n",
        "import torch.nn as nn\n",
        "import torch.optim as optim\n",
        "from torch.utils.data import DataLoader, TensorDataset\n",
        "\n",
        "class PowerNetwork(nn.Module):\n",
        "  def __init__(self, input_dim, hidden_dim, output_dim):\n",
        "      super(PowerNetwork, self).__init__()\n",
        "      self.fc1 = nn.Linear(input_dim, hidden_dim)\n",
        "      self.fc2 = nn.Linear(hidden_dim, output_dim)\n",
        "      self.activation = nn.ReLU()\n",
        "\n",
        "  def forward(self, x):\n",
        "      x = self.fc1(x)\n",
        "      x = self.activation(x)\n",
        "      x = self.fc2(x)\n",
        "      return x\n",
        "\n",
        "X_train_torch = torch.tensor(X_train, dtype=torch.float32) # z-score normalization spit out a numpy array\n",
        "Y_train_torch = torch.tensor(Y_train.to_numpy(), dtype=torch.float32) # was not converted to numpy by norm\n",
        "X_test_torch = torch.tensor(X_test, dtype=torch.float32)\n",
        "Y_test_torch = torch.tensor(Y_test.to_numpy(), dtype=torch.float32)\n",
        "\n",
        "train_data = TensorDataset(X_train_torch, Y_train_torch)\n",
        "test_data = TensorDataset(X_test_torch, Y_test_torch)\n",
        "\n",
        "test_loader = DataLoader(test_data, batch_size=32, shuffle=True)\n",
        "train_loader = DataLoader(train_data, batch_size=32, shuffle=True)\n",
        "\n",
        "input_dim = X_train.shape[1]\n",
        "hidden_dim = 50\n",
        "output_dim = Y_train.shape[1]\n",
        "\n",
        "model = PowerNetwork(input_dim, hidden_dim, output_dim)\n",
        "\n",
        "optimizer = optim.SGD(model.parameters(), lr=0.01, momentum=0.9, nesterov=True)"
      ],
      "metadata": {
        "id": "VWJQhBOkAwc6"
      },
      "execution_count": 49,
      "outputs": []
    },
    {
      "cell_type": "markdown",
      "source": [
        "The neural network's loss function is decided by Mean Squared Error, as it is a regression problem, not classification."
      ],
      "metadata": {
        "id": "4uWwNT_aZTXe"
      }
    },
    {
      "cell_type": "code",
      "source": [
        "import torch.nn.functional as F\n",
        "criterion = nn.MSELoss()\n",
        "\n",
        "num_epochs = 100\n",
        "\n",
        "for epoch in range(num_epochs):\n",
        "    model.train()  # Set the model to training mode\n",
        "    running_loss = 0.0\n",
        "\n",
        "    # Iterate through the data\n",
        "    for inputs, labels in train_loader:\n",
        "        optimizer.zero_grad()  # Zero the gradients\n",
        "\n",
        "        # Forward pass\n",
        "        outputs = model(inputs)\n",
        "\n",
        "        # Compute loss\n",
        "        loss = criterion(outputs, labels)\n",
        "\n",
        "        # Backward pass (compute gradients)\n",
        "        loss.backward()\n",
        "\n",
        "        # Update weights\n",
        "        optimizer.step()\n",
        "\n",
        "        running_loss += loss.item()\n",
        "\n",
        "    if epoch % 10 == 0:\n",
        "        print(f\"Epoch {epoch} has loss of {running_loss:.4f}\")\n",
        "\n",
        "print(\"finished training\")"
      ],
      "metadata": {
        "colab": {
          "base_uri": "https://localhost:8080/"
        },
        "id": "jJLX7CjdCYSF",
        "outputId": "aebb3824-961e-4531-be07-ce026ce7be89"
      },
      "execution_count": 63,
      "outputs": [
        {
          "output_type": "stream",
          "name": "stdout",
          "text": [
            "Epoch 0 has loss of 13.3263\n",
            "Epoch 10 has loss of 14.1500\n",
            "Epoch 20 has loss of 16.4160\n",
            "Epoch 30 has loss of 14.3083\n",
            "Epoch 40 has loss of 19.2278\n",
            "Epoch 50 has loss of 12.0787\n",
            "Epoch 60 has loss of 13.3154\n",
            "Epoch 70 has loss of 15.9362\n",
            "Epoch 80 has loss of 13.3150\n",
            "Epoch 90 has loss of 15.0825\n",
            "finished training\n"
          ]
        }
      ]
    },
    {
      "cell_type": "markdown",
      "source": [
        "Once we have trained this regression neural network, let's now evaluate it's $R^2$ score on the training set."
      ],
      "metadata": {
        "id": "F2Q-FkpdXaX4"
      }
    },
    {
      "cell_type": "code",
      "source": [
        "total_ss_res = 0  # Residual sum of squares\n",
        "total_ss_tot = 0  # Total sum of squares\n",
        "y_mean = Y_train_torch.mean(dim=0)  # Mean of actual values\n",
        "total_samples = 0\n",
        "\n",
        "# Disable gradient calculation for testing\n",
        "with torch.no_grad():\n",
        "    for inputs, labels in train_loader:\n",
        "        predictions = model(inputs)\n",
        "\n",
        "        # Sum of squared residuals (SS_res)\n",
        "        ss_res = ((labels - predictions) ** 2).sum().item()\n",
        "\n",
        "        # Total sum of squares (SS_tot)\n",
        "        ss_tot = ((labels - y_mean) ** 2).sum().item()\n",
        "\n",
        "        total_ss_res += ss_res\n",
        "        total_ss_tot += ss_tot\n",
        "        total_samples += inputs.size(0)\n",
        "\n",
        "# Compute R^2\n",
        "r2_score = 1 - (total_ss_res / total_ss_tot)\n",
        "print(\"R^2 Score:\", r2_score)"
      ],
      "metadata": {
        "colab": {
          "base_uri": "https://localhost:8080/"
        },
        "id": "9Lvqicp4Vo3_",
        "outputId": "55986b76-f21b-4577-e684-3f0be1899f7e"
      },
      "execution_count": 64,
      "outputs": [
        {
          "output_type": "stream",
          "name": "stdout",
          "text": [
            "R^2 Score: 0.994254842070842\n"
          ]
        }
      ]
    },
    {
      "cell_type": "markdown",
      "source": [
        "We will now do the same score evaluation on the test set."
      ],
      "metadata": {
        "id": "7b2UyWM_bT3n"
      }
    },
    {
      "cell_type": "code",
      "source": [
        "total_ss_res = 0  # Residual sum of squares\n",
        "total_ss_tot = 0  # Total sum of squares\n",
        "y_mean = Y_test_torch.mean(dim=0)  # Mean of actual values\n",
        "total_samples = 0\n",
        "\n",
        "# Disable gradient calculation for testing\n",
        "with torch.no_grad():\n",
        "    for inputs, labels in test_loader:\n",
        "        predictions = model(inputs)\n",
        "\n",
        "        # Sum of squared residuals (SS_res)\n",
        "        ss_res = ((labels - predictions) ** 2).sum().item()\n",
        "\n",
        "        # Total sum of squares (SS_tot)\n",
        "        ss_tot = ((labels - y_mean) ** 2).sum().item()\n",
        "\n",
        "        total_ss_res += ss_res\n",
        "        total_ss_tot += ss_tot\n",
        "        total_samples += inputs.size(0)\n",
        "\n",
        "# Compute R^2\n",
        "r2_score = 1 - (total_ss_res / total_ss_tot)\n",
        "print(\"R^2 Score:\", r2_score)"
      ],
      "metadata": {
        "colab": {
          "base_uri": "https://localhost:8080/"
        },
        "id": "2tRbe8WaXk8v",
        "outputId": "a04fcd94-c86c-4318-c9fa-ed50ea2f402f"
      },
      "execution_count": 65,
      "outputs": [
        {
          "output_type": "stream",
          "name": "stdout",
          "text": [
            "R^2 Score: 0.9911919374703005\n"
          ]
        }
      ]
    },
    {
      "cell_type": "markdown",
      "source": [
        "You can observe right here that the neural network achieved low bias & low variance!\n",
        "\n",
        "---\n",
        "\n",
        "\n",
        "## Conclusion\n",
        "\n",
        "Both Gaussian Process (GP) regression & a vanilla neural network were able to predict the energy usage with high accuracy.\n",
        "\n",
        "Both required an amount of hyperparameter tuning, although scikit-learn's GP regressor contained features to auto-tune kernel inputs using the [Limited-memory BFGS](https://en.wikipedia.org/wiki/Limited-memory_BFGS) algorithm, a powerful & popular optimization technique.\n",
        "\n",
        "## Next Steps\n",
        "\n",
        "To fully, 110% understand the algorithms behind it, I will implement the GP regressor from scratch. Stay tuned!"
      ],
      "metadata": {
        "id": "GDlCNnDNY9q5"
      }
    },
    {
      "cell_type": "markdown",
      "source": [
        "# Quod Erat Demonstrandum"
      ],
      "metadata": {
        "id": "P2zqzRyX5sI2"
      }
    }
  ]
}